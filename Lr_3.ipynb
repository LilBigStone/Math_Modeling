{
 "cells": [
  {
   "cell_type": "code",
   "execution_count": 1,
   "metadata": {
    "collapsed": true
   },
   "outputs": [],
   "source": [
    "import numpy as np\n",
    "from numpy.linalg import inv\n",
    "from math import log"
   ]
  },
  {
   "cell_type": "code",
   "execution_count": 2,
   "outputs": [],
   "source": [
    "class SMO:\n",
    "    def __init__(self, time_step):\n",
    "        self.history_smo = [0]\n",
    "        self.total_count = 0\n",
    "        self.time = 0\n",
    "        self.step_disc = time_step\n",
    "        self.cur_state = 0\n",
    "        self.history_smo_disc = [0]\n",
    "        self.rejects = 0\n",
    "        self.history = [0]\n",
    "        self.history_disc = [0]\n",
    "        self.states = [1, 0, 0]\n",
    "\n",
    "    def get_delta(self, intensity):\n",
    "        return - 1 / intensity * log(np.random.uniform(0, 1))\n",
    "\n",
    "    def event(self, deltatime):\n",
    "        self.time += deltatime\n",
    "        occurences = int(self.time / self.step_disc) - len(self.history) + 1\n",
    "        suffix = [self.cur_state] * occurences\n",
    "        self.history_smo += suffix\n",
    "        for _ in range(occurences):\n",
    "            last_time = self.history[-1]\n",
    "            self.history.append(last_time + self.step_disc)\n",
    "        self.history_disc.append(self.time)"
   ],
   "metadata": {
    "collapsed": false,
    "pycharm": {
     "name": "#%%\n"
    }
   }
  },
  {
   "cell_type": "code",
   "execution_count": 3,
   "outputs": [
    {
     "name": "stdout",
     "output_type": "stream",
     "text": [
      "Параметры X=6, t_obs=0.3333333333333333, t_r=0.5 с шагом дискредитации 1\n"
     ]
    }
   ],
   "source": [
    "max_time = 5000\n",
    "X = 6\n",
    "t_obs = 1 / 3\n",
    "t_r = 1 / 2\n",
    "step = 1\n",
    "\n",
    "smo = SMO(step)\n",
    "\n",
    "print(f'Параметры X={X}, t_obs={t_obs}, t_r={t_r} с шагом дискредитации {step}')"
   ],
   "metadata": {
    "collapsed": false,
    "pycharm": {
     "name": "#%%\n"
    }
   }
  },
  {
   "cell_type": "code",
   "execution_count": 4,
   "outputs": [],
   "source": [
    "def perform_rejects(delta):\n",
    "    buffer_time = smo.get_delta(X)\n",
    "    while buffer_time < delta:\n",
    "        smo.rejects += 1\n",
    "        smo.total_count += 1\n",
    "        buffer_time += smo.get_delta(X)\n",
    "\n",
    "\n",
    "while smo.time < max_time:\n",
    "    if smo.cur_state == 0:\n",
    "        delta_to_2 = smo.get_delta(0.9 / t_obs)\n",
    "        delta_to_1 = smo.get_delta(X)\n",
    "        if delta_to_2 >= delta_to_1:\n",
    "            smo.event(delta_to_1)\n",
    "            smo.cur_state = 1\n",
    "            smo.total_count += 1\n",
    "        else:\n",
    "            smo.event(delta_to_2)\n",
    "            smo.cur_state = 2\n",
    "            perform_rejects(delta_to_2)\n",
    "\n",
    "    elif smo.cur_state == 1:\n",
    "        delta_to_0 = smo.get_delta(1 / t_obs)\n",
    "        delta_to_2 = smo.get_delta(X)\n",
    "        if delta_to_2 >= delta_to_0:\n",
    "            smo.event(delta_to_0)\n",
    "            smo.cur_state = 0\n",
    "            perform_rejects(delta_to_0)\n",
    "        else:\n",
    "            smo.event(delta_to_2)\n",
    "            smo.cur_state = 2\n",
    "\n",
    "            perform_rejects(delta_to_2)\n",
    "    elif smo.cur_state == 2:\n",
    "        delta_to_0 = smo.get_delta(1 / t_r)\n",
    "        smo.event(delta_to_0)\n",
    "        smo.cur_state = 0\n",
    "\n",
    "        perform_rejects(delta_to_0)\n",
    "    else:\n",
    "        raise Exception('!!!')\n",
    "    smo.states[smo.cur_state] += 1\n",
    "    smo.history_smo_disc.append(smo.cur_state)\n",
    "\n",
    "\n",
    "def get_items(item, param_list):\n",
    "    count = 0\n",
    "    for element in param_list:\n",
    "        if element == item:\n",
    "            count += 1\n",
    "    return count"
   ],
   "metadata": {
    "collapsed": false,
    "pycharm": {
     "name": "#%%\n"
    }
   }
  },
  {
   "cell_type": "code",
   "execution_count": 5,
   "outputs": [
    {
     "name": "stdout",
     "output_type": "stream",
     "text": [
      "-- Эмпирические характеристики --\n",
      "1) Финальная вероятность p0 = 0.20975804839032194\n",
      "2) Финальная вероятность p1 = 0.13097380523895222\n",
      "3) Финальная вероятность p2 = 0.6592681463707258\n",
      "4) Абсолютная пропускная спопобность = 1.2363147131933072\n",
      "5) Относительная пропускная способность = 0.1951512090409748\n",
      "_________________________________________________________________________\n",
      "-- Теоретические характеристики --\n",
      "1) Финальная вероятность p0 = [0.19933555]\n",
      "2) Финальная вероятность p1 = [0.13289037]\n",
      "3) Финальная вероятность p2 = [0.66777409]\n",
      "4) Абсолютная пропускная спопобность = [1.19601329]\n",
      "5) Относительная пропускная способность = [0.19933555]\n"
     ]
    }
   ],
   "source": [
    "print('-- Эмпирические характеристики --')\n",
    "state_count = len(smo.history_smo)\n",
    "print(f'1) Финальная вероятность p0 = {get_items(0, smo.history_smo) / state_count}')\n",
    "print(f'2) Финальная вероятность p1 = {get_items(1, smo.history_smo) / state_count}')\n",
    "print(f'3) Финальная вероятность p2 = {get_items(2, smo.history_smo) / state_count}')\n",
    "print(f'4) Абсолютная пропускная спопобность = {(smo.total_count - smo.rejects) / smo.time}')\n",
    "print(f'5) Относительная пропускная способность = {(smo.total_count - smo.rejects) / smo.total_count}')\n",
    "\n",
    "print('_________________________________________________________________________')\n",
    "\n",
    "print('-- Теоретические характеристики --')\n",
    "p = inv(np.array([\n",
    "    [-X - 0.9 / t_obs, 1 / t_obs, 1 / t_r],\n",
    "    [X, -X - 1 / t_obs, 0],\n",
    "    [1, 1, 1]\n",
    "])).dot(np.array([[0], [0], [1]]))\n",
    "print(f'1) Финальная вероятность p0 = {p[0]}')\n",
    "print(f'2) Финальная вероятность p1 = {p[1]}')\n",
    "print(f'3) Финальная вероятность p2 = {p[2]}')\n",
    "print(f'4) Абсолютная пропускная спопобность = {X * p[0]}')\n",
    "print(f'5) Относительная пропускная способность = {p[0]}')"
   ],
   "metadata": {
    "collapsed": false,
    "pycharm": {
     "name": "#%%\n"
    }
   }
  }
 ],
 "metadata": {
  "kernelspec": {
   "display_name": "Python 3",
   "language": "python",
   "name": "python3"
  },
  "language_info": {
   "codemirror_mode": {
    "name": "ipython",
    "version": 2
   },
   "file_extension": ".py",
   "mimetype": "text/x-python",
   "name": "python",
   "nbconvert_exporter": "python",
   "pygments_lexer": "ipython2",
   "version": "2.7.6"
  }
 },
 "nbformat": 4,
 "nbformat_minor": 0
}