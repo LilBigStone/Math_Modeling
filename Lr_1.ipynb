{
 "cells": [
  {
   "cell_type": "code",
   "execution_count": 169,
   "metadata": {},
   "outputs": [],
   "source": [
    "import math\n",
    "import numpy as np\n",
    "import scipy as sp\n",
    "from scipy import stats\n",
    "import matplotlib.pyplot as plt"
   ]
  },
  {
   "cell_type": "code",
   "execution_count": 170,
   "outputs": [],
   "source": [
    "#constants\n",
    "n,m = 5, 5"
   ],
   "metadata": {
    "collapsed": false,
    "pycharm": {
     "name": "#%%\n"
    }
   }
  },
  {
   "cell_type": "code",
   "execution_count": 171,
   "outputs": [],
   "source": [
    "#methods\n",
    "\n",
    "def gen_theoretical_matrix(x_n, y_n):\n",
    "    matrix = np.zeros((x_n, y_n))\n",
    "    for i in range(n):\n",
    "      for j in range(m):\n",
    "        matrix[i][j] = math.cos(math.log(np.random.uniform(0, 1))) ** 2\n",
    "    return matrix / sum(sum(matrix))\n",
    "\n",
    "def generate_estimate(axis):\n",
    "    l = [0]\n",
    "    for i in range(len(axis)):\n",
    "        l.append(l[i]+axis[i])\n",
    "    return l\n",
    "\n",
    "\n",
    "def generate_sample(k, l, s):\n",
    "    sample = [[0] * 2 for i in range(k)]\n",
    "    for _ in range(k):\n",
    "        r_val = np.random.uniform(0,1)\n",
    "        for i in range(len(l)-1):\n",
    "            if l[i] < r_val < l[i+1]:\n",
    "                sample[_][0] = i+1\n",
    "                for j in range(len(s)-1):\n",
    "                    if s[j] < r_val < s[j+1]:\n",
    "                        sample[_][1] = j+1\n",
    "                        break\n",
    "                break\n",
    "    return sample\n",
    "\n",
    "\n",
    "def point_estimate_math_mean(sample):\n",
    "    return sum(sample) / len(sample)\n",
    "\n",
    "\n",
    "def point_estimate_variance(sample):\n",
    "    mean = point_estimate_math_mean(sample)\n",
    "    result = 0.0\n",
    "    for element in sample:\n",
    "        result += (element - mean) ** 2\n",
    "    return result / (len(sample) - 1)\n",
    "\n",
    "\n",
    "def confidence_interval_math_mean(sample, significance_level):\n",
    "    standard_deviation = np.sqrt(point_estimate_variance(sample))\n",
    "    u_coefficient = stats.norm.ppf(1 - significance_level / 2)\n",
    "    epsilon = standard_deviation * u_coefficient / np.sqrt(len(sample))\n",
    "    return -epsilon, epsilon\n",
    "\n",
    "\n",
    "def confidence_interval_variance(sample, significance_level):\n",
    "    left_chi_coefficient = stats.chi2.ppf(1 - significance_level / 2, n - 1)\n",
    "    right_chi_coefficient = stats.chi2.ppf(significance_level / 2, n - 1)\n",
    "    est_variance = point_estimate_variance(sample)\n",
    "    epsilon = (n - 1) * est_variance\n",
    "    return epsilon / left_chi_coefficient, epsilon / right_chi_coefficient"
   ],
   "metadata": {
    "collapsed": false,
    "pycharm": {
     "name": "#%%\n"
    }
   }
  },
  {
   "cell_type": "code",
   "execution_count": 172,
   "outputs": [],
   "source": [
    "def print_hist(sample, component_name):\n",
    "    plt.hist(sample)\n",
    "    plt.title(\"Histogram of\" + component_name + \"component of DRV\")\n",
    "    plt.xlabel(\"Value\")\n",
    "    plt.ylabel(\"Amount\")\n",
    "    plt.legend((component_name + \" component\", ''))\n",
    "    plt.show()"
   ],
   "metadata": {
    "collapsed": false,
    "pycharm": {
     "name": "#%%\n"
    }
   }
  },
  {
   "cell_type": "code",
   "execution_count": 173,
   "outputs": [
    {
     "name": "stdout",
     "output_type": "stream",
     "text": [
      "Проверяем теоретическую матрицу:\n",
      "Сумма элементов равна: \n",
      "1.0\n",
      "Теоретическая матрица:\n",
      "[[0.04920067 0.05319939 0.04162486 0.03751559 0.06035915]\n",
      " [0.04449549 0.04834493 0.00515713 0.05414008 0.04608204]\n",
      " [0.01178696 0.04446093 0.04410096 0.0479082  0.00408583]\n",
      " [0.02654133 0.03963342 0.0597972  0.01320142 0.0483747 ]\n",
      " [0.06027906 0.04418398 0.02632053 0.04559869 0.04360747]]\n"
     ]
    },
    {
     "data": {
      "text/plain": "<matplotlib.image.AxesImage at 0x279c15b15b0>"
     },
     "execution_count": 173,
     "metadata": {},
     "output_type": "execute_result"
    },
    {
     "data": {
      "text/plain": "<Figure size 432x288 with 1 Axes>",
      "image/png": "[encoded data removed]"
     },
     "metadata": {
      "needs_background": "light"
     },
     "output_type": "display_data"
    }
   ],
   "source": [
    "theoretical_matrix = gen_theoretical_matrix(n, m)\n",
    "\n",
    "print(\"Проверяем теоретическую матрицу:\")\n",
    "print(\"Сумма элементов равна: \")\n",
    "print(sum(sum(theoretical_matrix)))\n",
    "print(\"Теоретическая матрица:\")\n",
    "print(theoretical_matrix)\n",
    "\n",
    "q = theoretical_matrix.sum(axis=0)\n",
    "r = theoretical_matrix.sum(axis=1)\n",
    "plt.imshow(theoretical_matrix)"
   ],
   "metadata": {
    "collapsed": false,
    "pycharm": {
     "name": "#%%\n"
    }
   }
  },
  {
   "cell_type": "code",
   "execution_count": 174,
   "outputs": [],
   "source": [
    "l_q = generate_estimate(q)\n",
    "l_r = generate_estimate(r)\n",
    "\n",
    "P = generate_sample(100, l_q, l_r)\n",
    "\n",
    "x_sample = [i[0] for i in P]\n",
    "y_sample = [i[1] for i in P]"
   ],
   "metadata": {
    "collapsed": false,
    "pycharm": {
     "name": "#%%\n"
    }
   }
  },
  {
   "cell_type": "code",
   "execution_count": 175,
   "outputs": [
    {
     "data": {
      "text/plain": "<Figure size 432x288 with 1 Axes>",
      "image/png": "[encoded data removed]"
     },
     "metadata": {
      "needs_background": "light"
     },
     "output_type": "display_data"
    },
    {
     "data": {
      "text/plain": "<Figure size 432x288 with 1 Axes>",
      "image/png": "[encoded data removed]"
     },
     "metadata": {
      "needs_background": "light"
     },
     "output_type": "display_data"
    }
   ],
   "source": [
    "print_hist(x_sample,\"X\")\n",
    "print_hist(y_sample,\"Y\")"
   ],
   "metadata": {
    "collapsed": false,
    "pycharm": {
     "name": "#%%\n"
    }
   }
  },
  {
   "cell_type": "code",
   "execution_count": 176,
   "outputs": [
    {
     "name": "stdout",
     "output_type": "stream",
     "text": [
      "Для точечных оценок матожидания используем выборочное среднее:\n",
      "M[X]=2.67\n",
      "M[Y]=2.59\n",
      "Для точечных оценок дисперсии используем исправленную выборочную дисперсию:\n",
      "D[X]=1.980909090909093\n",
      "D[Y]=2.325151515151513\n",
      "Доверительный интервал для матожидания при уровне значимости 0.01:\n",
      "[2.3074654913776516; 3.0325345086223483]\n",
      "[2.1972260206589787; 2.982773979341021]\n",
      "Доверительный интервал для дисперсии при уровне значимости 0.01:\n",
      "[0.5332098426640912; 40.26136256698815]\n",
      "[2.951022575693285; 47.25798301613881]\n"
     ]
    }
   ],
   "source": [
    "print('Для точечных оценок матожидания используем выборочное среднее:')\n",
    "M_X = point_estimate_math_mean(x_sample)\n",
    "print(f'M[X]={M_X}')\n",
    "M_Y = point_estimate_math_mean(y_sample)\n",
    "print(f'M[Y]={M_Y}')\n",
    "\n",
    "print('Для точечных оценок дисперсии используем исправленную выборочную дисперсию:')\n",
    "D_X = point_estimate_variance(x_sample)\n",
    "print(f'D[X]={D_X}')\n",
    "D_Y = point_estimate_variance(y_sample)\n",
    "print(f'D[Y]={D_Y}')\n",
    "\n",
    "print('Доверительный интервал для матожидания при уровне значимости 0.01:')\n",
    "M_X_tuple = confidence_interval_math_mean(x_sample, 0.01)\n",
    "print(f'[{M_X + M_X_tuple[0]}; {M_X + M_X_tuple[1]}]')\n",
    "M_Y_tuple = confidence_interval_math_mean(y_sample, 0.01)\n",
    "print(f'[{M_Y + M_Y_tuple[0]}; {M_Y + M_Y_tuple[1]}]')\n",
    "\n",
    "print('Доверительный интервал для дисперсии при уровне значимости 0.01:')\n",
    "D_X_tuple = confidence_interval_variance(x_sample, 0.01)\n",
    "print(f'[{ D_X_tuple[0]}; {D_X + D_X_tuple[1]}]')\n",
    "D_Y_tuple = confidence_interval_variance(y_sample, 0.01)\n",
    "print(f'[{D_Y + D_Y_tuple[0]}; {D_Y + D_Y_tuple[1]}]')"
   ],
   "metadata": {
    "collapsed": false,
    "pycharm": {
     "name": "#%%\n"
    }
   }
  }
 ],
 "metadata": {
  "kernelspec": {
   "display_name": "Python 3 (ipykernel)",
   "language": "python",
   "name": "python3"
  },
  "language_info": {
   "codemirror_mode": {
    "name": "ipython",
    "version": 3
   },
   "file_extension": ".py",
   "mimetype": "text/x-python",
   "name": "python",
   "nbconvert_exporter": "python",
   "pygments_lexer": "ipython3",
   "version": "3.9.5"
  }
 },
 "nbformat": 4,
 "nbformat_minor": 1
}