{
 "cells": [
  {
   "cell_type": "code",
   "execution_count": 152,
   "metadata": {},
   "outputs": [],
   "source": [
    "import math\n",
    "import numpy as np\n",
    "import scipy as sp\n",
    "from scipy import stats\n",
    "import matplotlib.pyplot as plt"
   ]
  },
  {
   "cell_type": "code",
   "execution_count": 153,
   "outputs": [],
   "source": [
    "theoretical_matrix = np.array([\n",
    "    [0.01, 0.01, 0.02, 0.02, 0.01],\n",
    "    [0.04, 0.3, 0.06, 0.03, 0.01],\n",
    "    [0.02, 0.03, 0.06, 0.07, 0.05],\n",
    "    [0.05, 0.03, 0.04, 0.02, 0.03],\n",
    "    [0.03, 0.02, 0.01, 0.01, 0.02]\n",
    "])\n",
    "\n",
    "theoretical_X = np.array([1, 2, 3, 4, 5])\n",
    "theoretical_Y = np.array([6, 7, 8, 9, 10])\n",
    "n,m = 5,5"
   ],
   "metadata": {
    "collapsed": false,
    "pycharm": {
     "name": "#%%\n"
    }
   }
  },
  {
   "cell_type": "code",
   "execution_count": 154,
   "outputs": [],
   "source": [
    "count = 1000\n",
    "\n",
    "q = theoretical_matrix.sum(axis=0)\n",
    "r = theoretical_matrix.sum(axis=1)\n",
    "\n",
    "\n",
    "def generate_estimate(axis):\n",
    "    l = [0]\n",
    "    for i in range(len(axis)):\n",
    "        l.append(l[i]+axis[i])\n",
    "    return l\n",
    "\n",
    "\n",
    "def generate_sample(k, l, s):\n",
    "    sample = [[0] * 2 for i in range(k)]\n",
    "    for _ in range(k):\n",
    "        r_val = np.random.uniform(0,1)\n",
    "        for i in range(len(l)-1):\n",
    "            if l[i] < r_val < l[i+1]:\n",
    "                sample[_][0] = i+1\n",
    "                for j in range(len(s)-1):\n",
    "                    if s[j] < r_val < s[j+1]:\n",
    "                        sample[_][1] = j+1\n",
    "                        break\n",
    "                break\n",
    "    return sample\n",
    "\n",
    "\n",
    "def point_estimate_math_mean(sample):\n",
    "    return sum(sample) / len(sample)\n",
    "\n",
    "\n",
    "def point_estimate_variance(sample):\n",
    "    mean = point_estimate_math_mean(sample)\n",
    "    result = 0.0\n",
    "    for element in sample:\n",
    "        result += (element - mean) ** 2\n",
    "    return result / (len(sample) - 1)\n",
    "\n",
    "\n",
    "def confidence_interval_math_mean(sample, significance_level):\n",
    "    standard_deviation = np.sqrt(point_estimate_variance(sample))\n",
    "    u_coefficient = stats.norm.ppf(1 - significance_level / 2)\n",
    "    epsilon = standard_deviation * u_coefficient / np.sqrt(len(sample))\n",
    "    return -epsilon, epsilon\n",
    "\n",
    "\n",
    "def confidence_interval_variance(sample, significance_level):\n",
    "    left_chi_coefficient = stats.chi2.ppf(1 - significance_level / 2, n - 1)\n",
    "    right_chi_coefficient = stats.chi2.ppf(significance_level / 2, n - 1)\n",
    "    est_variance = point_estimate_variance(sample)\n",
    "    epsilon = (n - 1) * est_variance\n",
    "    return epsilon / left_chi_coefficient, epsilon / right_chi_coefficient"
   ],
   "metadata": {
    "collapsed": false,
    "pycharm": {
     "name": "#%%\n"
    }
   }
  },
  {
   "cell_type": "code",
   "execution_count": null,
   "outputs": [],
   "source": [
    "def print_hist(sample, component_name):\n",
    "    plt.hist(sample)\n",
    "    plt.title(\"Histogram of\" + component_name + \"component of DRV\")\n",
    "    plt.xlabel(\"Value\")\n",
    "    plt.ylabel(\"Amount\")\n",
    "    plt.legend((component_name + \" component\", ''))\n",
    "    plt.show()\n",
    "\n",
    "\n",
    "def print_hot_map(sample_x, sample_y):\n",
    "    hist, x_edges, y_edges = np.histogram2d(sample_x, sample_y)\n",
    "    hist = hist.T\n",
    "    x, y = np.meshgrid(x_edges, y_edges)\n",
    "    plt.pcolormesh(x, y, hist)\n",
    "    plt.show()"
   ],
   "metadata": {
    "collapsed": false,
    "pycharm": {
     "name": "#%%\n"
    }
   }
  },
  {
   "cell_type": "code",
   "execution_count": 155,
   "outputs": [
    {
     "data": {
      "text/plain": "<matplotlib.image.AxesImage at 0x2896b94fe50>"
     },
     "execution_count": 155,
     "metadata": {},
     "output_type": "execute_result"
    },
    {
     "data": {
      "text/plain": "<Figure size 432x288 with 1 Axes>",
      "image/png": "[encoded data removed]"
     },
     "metadata": {
      "needs_background": "light"
     },
     "output_type": "display_data"
    }
   ],
   "source": [
    "plt.imshow(theoretical_matrix)"
   ],
   "metadata": {
    "collapsed": false,
    "pycharm": {
     "name": "#%%\n"
    }
   }
  },
  {
   "cell_type": "code",
   "execution_count": 156,
   "outputs": [
    {
     "data": {
      "text/plain": "<Figure size 432x288 with 1 Axes>",
      "image/png": "[encoded data removed]"
     },
     "metadata": {
      "needs_background": "light"
     },
     "output_type": "display_data"
    },
    {
     "data": {
      "text/plain": "<Figure size 432x288 with 1 Axes>",
      "image/png": "[encoded data removed]"
     },
     "metadata": {
      "needs_background": "light"
     },
     "output_type": "display_data"
    },
    {
     "data": {
      "text/plain": "<Figure size 432x288 with 1 Axes>",
      "image/png": "[encoded data removed]"
     },
     "metadata": {
      "needs_background": "light"
     },
     "output_type": "display_data"
    }
   ],
   "source": [
    "l_q = generate_estimate(q)\n",
    "l_r = generate_estimate(r)\n",
    "\n",
    "P = generate_sample(10000, l_q, l_r)\n",
    "\n",
    "x_sample = [i[0] for i in P]\n",
    "y_sample = [i[1] for i in P]"
   ],
   "metadata": {
    "collapsed": false,
    "pycharm": {
     "name": "#%%\n"
    }
   }
  },
  {
   "cell_type": "code",
   "execution_count": null,
   "outputs": [],
   "source": [
    "print_hist(x_sample,\"X\")\n",
    "print_hist(y_sample,\"Y\")\n",
    "print_hot_map(x_sample, y_sample)"
   ],
   "metadata": {
    "collapsed": false,
    "pycharm": {
     "name": "#%%\n"
    }
   }
  },
  {
   "cell_type": "code",
   "execution_count": 157,
   "outputs": [
    {
     "name": "stdout",
     "output_type": "stream",
     "text": [
      "Для точечных оценок матожидания используем выборочное среднее:\n",
      "M[X]=2.7093\n",
      "M[Y]=2.7767\n",
      "Для точечных оценок дисперсии используем исправленную выборочную дисперсию:\n",
      "D[X]=1.5303465446545033\n",
      "D[Y]=1.1847555855585785\n",
      "Доверительный интервал для матожидания при уровне значимости 0.01:\n",
      "[2.677435143045178; 2.7411648569548217]\n",
      "[2.748663005140237; 2.8047369948597627]\n",
      "Доверительный интервал для дисперсии при уровне значимости 0.01:\n",
      "[0.41192997903921; 31.10381863066528]\n",
      "[1.5036613557780376; 24.079789629087678]\n"
     ]
    }
   ],
   "source": [
    "print('Для точечных оценок матожидания используем выборочное среднее:')\n",
    "M_X = point_estimate_math_mean(x_sample)\n",
    "print(f'M[X]={M_X}')\n",
    "M_Y = point_estimate_math_mean(y_sample)\n",
    "print(f'M[Y]={M_Y}')\n",
    "\n",
    "print('Для точечных оценок дисперсии используем исправленную выборочную дисперсию:')\n",
    "D_X = point_estimate_variance(x_sample)\n",
    "print(f'D[X]={D_X}')\n",
    "D_Y = point_estimate_variance(y_sample)\n",
    "print(f'D[Y]={D_Y}')\n",
    "\n",
    "print('Доверительный интервал для матожидания при уровне значимости 0.01:')\n",
    "M_X_tuple = confidence_interval_math_mean(x_sample, 0.01)\n",
    "print(f'[{M_X + M_X_tuple[0]}; {M_X + M_X_tuple[1]}]')\n",
    "M_Y_tuple = confidence_interval_math_mean(y_sample, 0.01)\n",
    "print(f'[{M_Y + M_Y_tuple[0]}; {M_Y + M_Y_tuple[1]}]')\n",
    "\n",
    "print('Доверительный интервал для дисперсии при уровне значимости 0.01:')\n",
    "D_X_tuple = confidence_interval_variance(x_sample, 0.01)\n",
    "print(f'[{ D_X_tuple[0]}; {D_X + D_X_tuple[1]}]')\n",
    "D_Y_tuple = confidence_interval_variance(y_sample, 0.01)\n",
    "print(f'[{D_Y + D_Y_tuple[0]}; {D_Y + D_Y_tuple[1]}]')"
   ],
   "metadata": {
    "collapsed": false,
    "pycharm": {
     "name": "#%%\n"
    }
   }
  }
 ],
 "metadata": {
  "kernelspec": {
   "display_name": "Python 3 (ipykernel)",
   "language": "python",
   "name": "python3"
  },
  "language_info": {
   "codemirror_mode": {
    "name": "ipython",
    "version": 3
   },
   "file_extension": ".py",
   "mimetype": "text/x-python",
   "name": "python",
   "nbconvert_exporter": "python",
   "pygments_lexer": "ipython3",
   "version": "3.9.5"
  }
 },
 "nbformat": 4,
 "nbformat_minor": 1
}